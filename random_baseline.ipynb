{
 "cells": [
  {
   "cell_type": "code",
   "execution_count": 1,
   "metadata": {},
   "outputs": [
    {
     "name": "stdout",
     "output_type": "stream",
     "text": [
      "Accuracy of the random classifier: 0.2689\n"
     ]
    }
   ],
   "source": [
    "import numpy as np\n",
    "\n",
    "# Number of examples in the training set for each category\n",
    "train_counts = {\n",
    "    \"Focus\": 5549,\n",
    "    \"Probing\": 3300,\n",
    "    \"Telling\": 2491,\n",
    "    \"Generic\": 3566\n",
    "}\n",
    "\n",
    "# Number of examples in the test set for each category\n",
    "test_counts = {\n",
    "    \"Focus\": 1259,\n",
    "    \"Probing\": 952,\n",
    "    \"Telling\": 596,\n",
    "    \"Generic\": 890\n",
    "}\n",
    "\n",
    "# Total number of examples in the test set\n",
    "total_test_examples = 10000\n",
    "\n",
    "# Calculate the proportions of each category in the training set\n",
    "train_proportions = {label: count / sum(train_counts.values()) for label, count in train_counts.items()}\n",
    "test_proportions = {label: count / sum(test_counts.values()) for label, count in test_counts.items()}\n",
    "\n",
    "# Generate random labels for the test set based on the proportions from the training set\n",
    "random_test_labels = np.random.choice(list(train_proportions.keys()), size=total_test_examples, p=list(train_proportions.values()))\n",
    "true_test_labels  = np.random.choice(list(test_proportions.keys()), size=total_test_examples, p=list(test_proportions.values()))\n",
    "\n",
    "# Calculate the accuracy by comparing the randomly assigned labels to the actual labels in the test set\n",
    "correct_predictions = sum(1 for predicted_label, actual_label in zip(random_test_labels, true_test_labels) if predicted_label == actual_label)\n",
    "accuracy = correct_predictions / total_test_examples\n",
    "\n",
    "print(\"Accuracy of the random classifier:\", accuracy)\n"
   ]
  },
  {
   "cell_type": "code",
   "execution_count": 2,
   "metadata": {},
   "outputs": [
    {
     "name": "stdout",
     "output_type": "stream",
     "text": [
      "Accuracy of the random classifier: 0.3328\n"
     ]
    }
   ],
   "source": [
    "import numpy as np\n",
    "\n",
    "# Number of examples in the training set for each category\n",
    "train_counts = {\n",
    "    \"Focus\": 5549\n",
    "}\n",
    "\n",
    "# Number of examples in the test set for each category\n",
    "test_counts = {\n",
    "    \"Focus\": 1259,\n",
    "    \"Probing\": 952,\n",
    "    \"Telling\": 596,\n",
    "    \"Generic\": 890\n",
    "}\n",
    "\n",
    "# Total number of examples in the test set\n",
    "total_test_examples = 10000\n",
    "\n",
    "# Calculate the proportions of each category in the training set\n",
    "train_proportions = {label: count / sum(train_counts.values()) for label, count in train_counts.items()}\n",
    "test_proportions = {label: count / sum(test_counts.values()) for label, count in test_counts.items()}\n",
    "\n",
    "# Generate random labels for the test set based on the proportions from the training set\n",
    "random_test_labels = np.random.choice(list(train_proportions.keys()), size=total_test_examples, p=list(train_proportions.values()))\n",
    "true_test_labels  = np.random.choice(list(test_proportions.keys()), size=total_test_examples, p=list(test_proportions.values()))\n",
    "\n",
    "# Calculate the accuracy by comparing the randomly assigned labels to the actual labels in the test set\n",
    "correct_predictions = sum(1 for predicted_label, actual_label in zip(random_test_labels, true_test_labels) if predicted_label == actual_label)\n",
    "accuracy = correct_predictions / total_test_examples\n",
    "\n",
    "print(\"Accuracy of the random classifier:\", accuracy)\n"
   ]
  },
  {
   "cell_type": "code",
   "execution_count": 3,
   "metadata": {},
   "outputs": [
    {
     "data": {
      "text/plain": [
       "0.3405463889640249"
      ]
     },
     "execution_count": 3,
     "metadata": {},
     "output_type": "execute_result"
    }
   ],
   "source": [
    "1259/3697"
   ]
  },
  {
   "cell_type": "code",
   "execution_count": null,
   "metadata": {},
   "outputs": [],
   "source": []
  }
 ],
 "metadata": {
  "kernelspec": {
   "display_name": "base",
   "language": "python",
   "name": "python3"
  },
  "language_info": {
   "codemirror_mode": {
    "name": "ipython",
    "version": 3
   },
   "file_extension": ".py",
   "mimetype": "text/x-python",
   "name": "python",
   "nbconvert_exporter": "python",
   "pygments_lexer": "ipython3",
   "version": "3.11.4"
  },
  "orig_nbformat": 4
 },
 "nbformat": 4,
 "nbformat_minor": 2
}
