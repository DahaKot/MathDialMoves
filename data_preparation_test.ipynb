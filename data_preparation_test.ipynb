{
 "cells": [
  {
   "cell_type": "code",
   "execution_count": 17,
   "id": "5f933afe-1936-40fa-9090-13c2ce4035c0",
   "metadata": {},
   "outputs": [],
   "source": [
    "import pandas as pd"
   ]
  },
  {
   "cell_type": "code",
   "execution_count": 18,
   "id": "93d4bf42-6ce7-4d8d-951b-42b49118bcfd",
   "metadata": {},
   "outputs": [],
   "source": [
    "data = pd.read_csv(\"./mathdial/data/test.csv\")"
   ]
  },
  {
   "cell_type": "code",
   "execution_count": 19,
   "id": "d7067b76-c6c2-4058-8740-b1b1a7d7f204",
   "metadata": {},
   "outputs": [],
   "source": [
    "conversations = data[\"conversation\"]"
   ]
  },
  {
   "cell_type": "code",
   "execution_count": 20,
   "id": "0ed7b399-df93-48e3-957b-bc771f56b3ee",
   "metadata": {},
   "outputs": [],
   "source": [
    "strategies = {\"probing\": 0, \"generic\": 0, \"focus\": 0, \"telling\": 0}\n",
    "data['strategies'] = \"\"\n",
    "data['strategies'] = data['strategies'].astype('object')\n",
    "\n",
    "for i, line in enumerate(conversations):\n",
    "    variable_line = line\n",
    "    min_index = 0\n",
    "\n",
    "    current_strategies = []\n",
    "    while variable_line.find(\"(\", min_index) > 0:\n",
    "        a, b = variable_line.find(\"(\", min_index) + 1, variable_line.find(\")\", min_index)\n",
    "        strategy = variable_line[a:b]\n",
    "        if strategy not in strategies:\n",
    "            min_index = b + 1\n",
    "            continue\n",
    "            \n",
    "        strategies[strategy] += 1\n",
    "        current_strategies.append(strategy)\n",
    "    \n",
    "        variable_line = variable_line[:a - 1] + variable_line[b + 1:]\n",
    "\n",
    "    data.at[i, \"cut_conversation\"] = variable_line\n",
    "    data.at[i, \"strategies\"] = current_strategies"
   ]
  },
  {
   "cell_type": "code",
   "execution_count": 21,
   "id": "9a0f76a1-06de-4a02-9439-d36ddd5a73e4",
   "metadata": {},
   "outputs": [
    {
     "data": {
      "text/plain": [
       "{'probing': 952, 'generic': 890, 'focus': 1259, 'telling': 596}"
      ]
     },
     "execution_count": 21,
     "metadata": {},
     "output_type": "execute_result"
    }
   ],
   "source": [
    "strategies"
   ]
  },
  {
   "cell_type": "code",
   "execution_count": 22,
   "id": "be1f5f4f-d503-4fb1-be26-efb5cff4eff9",
   "metadata": {},
   "outputs": [],
   "source": [
    "from matplotlib import pyplot as plt"
   ]
  },
  {
   "cell_type": "code",
   "execution_count": 23,
   "id": "41efe9e5-c762-4ca4-970f-3dd7a569c5ba",
   "metadata": {},
   "outputs": [
    {
     "data": {
      "text/plain": [
       "<BarContainer object of 4 artists>"
      ]
     },
     "execution_count": 23,
     "metadata": {},
     "output_type": "execute_result"
    },
    {
     "data": {
      "image/png": "[encoded data removed]",
      "text/plain": [
       "<Figure size 640x480 with 1 Axes>"
      ]
     },
     "metadata": {},
     "output_type": "display_data"
    }
   ],
   "source": [
    "plt.bar(strategies.keys(), strategies.values())"
   ]
  },
  {
   "cell_type": "code",
   "execution_count": 24,
   "id": "64cf689d-06f5-41eb-aa4c-8550a72fc9b8",
   "metadata": {},
   "outputs": [
    {
     "data": {
      "text/html": [
       "<div>\n",
       "<style scoped>\n",
       "    .dataframe tbody tr th:only-of-type {\n",
       "        vertical-align: middle;\n",
       "    }\n",
       "\n",
       "    .dataframe tbody tr th {\n",
       "        vertical-align: top;\n",
       "    }\n",
       "\n",
       "    .dataframe thead th {\n",
       "        text-align: right;\n",
       "    }\n",
       "</style>\n",
       "<table border=\"1\" class=\"dataframe\">\n",
       "  <thead>\n",
       "    <tr style=\"text-align: right;\">\n",
       "      <th></th>\n",
       "      <th>qid</th>\n",
       "      <th>scenario</th>\n",
       "      <th>question</th>\n",
       "      <th>ground_truth</th>\n",
       "      <th>student_incorrect_solution</th>\n",
       "      <th>student_profile</th>\n",
       "      <th>teacher_described_confusion</th>\n",
       "      <th>self-correctness</th>\n",
       "      <th>self-typical-confusion</th>\n",
       "      <th>self-typical-interactions</th>\n",
       "      <th>conversation</th>\n",
       "      <th>strategies</th>\n",
       "      <th>cut_conversation</th>\n",
       "    </tr>\n",
       "  </thead>\n",
       "  <tbody>\n",
       "    <tr>\n",
       "      <th>0</th>\n",
       "      <td>6000025</td>\n",
       "      <td>1</td>\n",
       "      <td>Julia was preparing for a dinner party at her ...</td>\n",
       "      <td>The total number of spoons from Julia and her ...</td>\n",
       "      <td>Let's call the number of spoons Julia bought \"...</td>\n",
       "      <td>Mariana is a 7th grade student. She has diffic...</td>\n",
       "      <td>subtracting instead of adding</td>\n",
       "      <td>Yes</td>\n",
       "      <td>4.0</td>\n",
       "      <td>4.0</td>\n",
       "      <td>Teacher: (generic)Hi Mariana, please talk me t...</td>\n",
       "      <td>[generic, focus, telling, generic]</td>\n",
       "      <td>Teacher: Hi Mariana, please talk me through yo...</td>\n",
       "    </tr>\n",
       "    <tr>\n",
       "      <th>1</th>\n",
       "      <td>6000044</td>\n",
       "      <td>2</td>\n",
       "      <td>Carmen goes to an auction to win an antique de...</td>\n",
       "      <td>3 other people are bidding on the desk so ther...</td>\n",
       "      <td>The first bid was $200 and each subsequent bid...</td>\n",
       "      <td>Ayisha is a 7th grade student. She struggle to...</td>\n",
       "      <td>miscalculation</td>\n",
       "      <td>Yes, but I had to reveal the answer</td>\n",
       "      <td>4.0</td>\n",
       "      <td>4.0</td>\n",
       "      <td>Teacher: (generic)Hi Ayisha, please talk me th...</td>\n",
       "      <td>[generic, focus, focus, telling, focus, tellin...</td>\n",
       "      <td>Teacher: Hi Ayisha, please talk me through you...</td>\n",
       "    </tr>\n",
       "    <tr>\n",
       "      <th>2</th>\n",
       "      <td>6000060</td>\n",
       "      <td>3</td>\n",
       "      <td>Karan borrowed $3,650 for five months at an in...</td>\n",
       "      <td>Karan's interest is $3,650 × 0.1 = $365.\\nIn t...</td>\n",
       "      <td>Karan borrowed $3,650 for 5 months, so the tot...</td>\n",
       "      <td>Scott is a 7th grade student. He struggle to p...</td>\n",
       "      <td>wrong operation</td>\n",
       "      <td>Yes</td>\n",
       "      <td>4.0</td>\n",
       "      <td>4.0</td>\n",
       "      <td>Teacher: (generic)Hi Scott - talk me through y...</td>\n",
       "      <td>[generic, focus, focus, focus]</td>\n",
       "      <td>Teacher: Hi Scott - talk me through your answe...</td>\n",
       "    </tr>\n",
       "    <tr>\n",
       "      <th>3</th>\n",
       "      <td>6000054</td>\n",
       "      <td>4</td>\n",
       "      <td>Josh decides to take up juggling to perform at...</td>\n",
       "      <td>Josh starts with 3 balls and adds 1 ball each ...</td>\n",
       "      <td>Josh started with 3 balls and added 1 ball eac...</td>\n",
       "      <td>DeAndre is a 7th grade student. He struggle mo...</td>\n",
       "      <td>added unnecessary steos</td>\n",
       "      <td>Yes</td>\n",
       "      <td>4.0</td>\n",
       "      <td>4.0</td>\n",
       "      <td>Teacher: (generic)Hi DeAndre, tell me your ans...</td>\n",
       "      <td>[generic, generic, focus, focus, focus]</td>\n",
       "      <td>Teacher: Hi DeAndre, tell me your answer |EOM|...</td>\n",
       "    </tr>\n",
       "    <tr>\n",
       "      <th>4</th>\n",
       "      <td>6000057</td>\n",
       "      <td>5</td>\n",
       "      <td>Billy is buying some candy with $10 his father...</td>\n",
       "      <td>He spent $2 on gumballs because 40 x .05 = 2\\n...</td>\n",
       "      <td>Billy has $10, and if he spends half his chang...</td>\n",
       "      <td>Cody is a 7th grade student. He has problem wi...</td>\n",
       "      <td>wrong starting point</td>\n",
       "      <td>Yes</td>\n",
       "      <td>4.0</td>\n",
       "      <td>4.0</td>\n",
       "      <td>Teacher: (generic)Hi Cody, talk me through you...</td>\n",
       "      <td>[generic, focus, focus]</td>\n",
       "      <td>Teacher: Hi Cody, talk me through your solutio...</td>\n",
       "    </tr>\n",
       "    <tr>\n",
       "      <th>5</th>\n",
       "      <td>6000025</td>\n",
       "      <td>1</td>\n",
       "      <td>Julia was preparing for a dinner party at her ...</td>\n",
       "      <td>The total number of spoons from Julia and her ...</td>\n",
       "      <td>Let's call the number of spoons Julia bought \"...</td>\n",
       "      <td>Luca is a 7th grade student. He has problem wi...</td>\n",
       "      <td>The student appeared to be not listening prope...</td>\n",
       "      <td>Yes, but I had to reveal the answer</td>\n",
       "      <td>1.0</td>\n",
       "      <td>1.0</td>\n",
       "      <td>Teacher: (focus)Would you like to recheck your...</td>\n",
       "      <td>[focus, focus, focus, probing, focus, generic,...</td>\n",
       "      <td>Teacher: Would you like to recheck your answer...</td>\n",
       "    </tr>\n",
       "    <tr>\n",
       "      <th>6</th>\n",
       "      <td>6000037</td>\n",
       "      <td>2</td>\n",
       "      <td>There are 4 snails in one aquarium and 32 snai...</td>\n",
       "      <td>The difference between the number of snails is...</td>\n",
       "      <td>Let's call the number of fish in each aquarium...</td>\n",
       "      <td>DeAndre is a 7th grade student. He struggle to...</td>\n",
       "      <td>The student just forgot the final step</td>\n",
       "      <td>Yes</td>\n",
       "      <td>3.0</td>\n",
       "      <td>1.0</td>\n",
       "      <td>Teacher: (probing)You are almost there with yo...</td>\n",
       "      <td>[probing, focus, generic]</td>\n",
       "      <td>Teacher: You are almost there with you answer ...</td>\n",
       "    </tr>\n",
       "    <tr>\n",
       "      <th>7</th>\n",
       "      <td>6000056</td>\n",
       "      <td>3</td>\n",
       "      <td>Morgan's dad said that she had $90 budgeted fo...</td>\n",
       "      <td>The go karts will cost $20 per person because ...</td>\n",
       "      <td>Morgan has $90 - $5 (arcade tokens) = $85 left...</td>\n",
       "      <td>Seth is a 7th grade student. He has problem wi...</td>\n",
       "      <td>The student was subtracting in stead of adding</td>\n",
       "      <td>Yes, but I had to reveal the answer</td>\n",
       "      <td>4.0</td>\n",
       "      <td>1.0</td>\n",
       "      <td>Teacher: (focus)You are correct in the amount ...</td>\n",
       "      <td>[focus, focus, focus, generic, telling, focus,...</td>\n",
       "      <td>Teacher: You are correct in the amount the rid...</td>\n",
       "    </tr>\n",
       "    <tr>\n",
       "      <th>8</th>\n",
       "      <td>6000069</td>\n",
       "      <td>4</td>\n",
       "      <td>Kenny is selling his Pokemon cards to buy a ti...</td>\n",
       "      <td>He made $150 selling the cards because 100 + 5...</td>\n",
       "      <td>Let x be the total number of cards Kenny start...</td>\n",
       "      <td>Lakisha is a 7th grade student. She struggle t...</td>\n",
       "      <td>The student had the correct idea but was makin...</td>\n",
       "      <td>Yes, but I had to reveal the answer</td>\n",
       "      <td>3.0</td>\n",
       "      <td>2.0</td>\n",
       "      <td>Teacher: (focus)X cannot be 100 if 2x is 150 w...</td>\n",
       "      <td>[focus, telling, generic, generic]</td>\n",
       "      <td>Teacher: X cannot be 100 if 2x is 150 would yo...</td>\n",
       "    </tr>\n",
       "    <tr>\n",
       "      <th>9</th>\n",
       "      <td>6000067</td>\n",
       "      <td>1</td>\n",
       "      <td>Marcy makes homemade candles that she markets ...</td>\n",
       "      <td>First find what percentage of the candles expl...</td>\n",
       "      <td>If 5% of the candles have a defect that makes ...</td>\n",
       "      <td>Rishi is a 7th grade student. He struggle most...</td>\n",
       "      <td>student needed to calculate the 1% candles tha...</td>\n",
       "      <td>Yes</td>\n",
       "      <td>5.0</td>\n",
       "      <td>5.0</td>\n",
       "      <td>Teacher: (generic)Hi , could you please walk m...</td>\n",
       "      <td>[generic, focus, generic]</td>\n",
       "      <td>Teacher: Hi , could you please walk me through...</td>\n",
       "    </tr>\n",
       "  </tbody>\n",
       "</table>\n",
       "</div>"
      ],
      "text/plain": [
       "       qid  scenario                                           question  \\\n",
       "0  6000025         1  Julia was preparing for a dinner party at her ...   \n",
       "1  6000044         2  Carmen goes to an auction to win an antique de...   \n",
       "2  6000060         3  Karan borrowed $3,650 for five months at an in...   \n",
       "3  6000054         4  Josh decides to take up juggling to perform at...   \n",
       "4  6000057         5  Billy is buying some candy with $10 his father...   \n",
       "5  6000025         1  Julia was preparing for a dinner party at her ...   \n",
       "6  6000037         2  There are 4 snails in one aquarium and 32 snai...   \n",
       "7  6000056         3  Morgan's dad said that she had $90 budgeted fo...   \n",
       "8  6000069         4  Kenny is selling his Pokemon cards to buy a ti...   \n",
       "9  6000067         1  Marcy makes homemade candles that she markets ...   \n",
       "\n",
       "                                        ground_truth  \\\n",
       "0  The total number of spoons from Julia and her ...   \n",
       "1  3 other people are bidding on the desk so ther...   \n",
       "2  Karan's interest is $3,650 × 0.1 = $365.\\nIn t...   \n",
       "3  Josh starts with 3 balls and adds 1 ball each ...   \n",
       "4  He spent $2 on gumballs because 40 x .05 = 2\\n...   \n",
       "5  The total number of spoons from Julia and her ...   \n",
       "6  The difference between the number of snails is...   \n",
       "7  The go karts will cost $20 per person because ...   \n",
       "8  He made $150 selling the cards because 100 + 5...   \n",
       "9  First find what percentage of the candles expl...   \n",
       "\n",
       "                          student_incorrect_solution  \\\n",
       "0  Let's call the number of spoons Julia bought \"...   \n",
       "1  The first bid was $200 and each subsequent bid...   \n",
       "2  Karan borrowed $3,650 for 5 months, so the tot...   \n",
       "3  Josh started with 3 balls and added 1 ball eac...   \n",
       "4  Billy has $10, and if he spends half his chang...   \n",
       "5  Let's call the number of spoons Julia bought \"...   \n",
       "6  Let's call the number of fish in each aquarium...   \n",
       "7  Morgan has $90 - $5 (arcade tokens) = $85 left...   \n",
       "8  Let x be the total number of cards Kenny start...   \n",
       "9  If 5% of the candles have a defect that makes ...   \n",
       "\n",
       "                                     student_profile  \\\n",
       "0  Mariana is a 7th grade student. She has diffic...   \n",
       "1  Ayisha is a 7th grade student. She struggle to...   \n",
       "2  Scott is a 7th grade student. He struggle to p...   \n",
       "3  DeAndre is a 7th grade student. He struggle mo...   \n",
       "4  Cody is a 7th grade student. He has problem wi...   \n",
       "5  Luca is a 7th grade student. He has problem wi...   \n",
       "6  DeAndre is a 7th grade student. He struggle to...   \n",
       "7  Seth is a 7th grade student. He has problem wi...   \n",
       "8  Lakisha is a 7th grade student. She struggle t...   \n",
       "9  Rishi is a 7th grade student. He struggle most...   \n",
       "\n",
       "                         teacher_described_confusion  \\\n",
       "0                      subtracting instead of adding   \n",
       "1                                     miscalculation   \n",
       "2                                    wrong operation   \n",
       "3                            added unnecessary steos   \n",
       "4                               wrong starting point   \n",
       "5  The student appeared to be not listening prope...   \n",
       "6             The student just forgot the final step   \n",
       "7     The student was subtracting in stead of adding   \n",
       "8  The student had the correct idea but was makin...   \n",
       "9  student needed to calculate the 1% candles tha...   \n",
       "\n",
       "                      self-correctness  self-typical-confusion  \\\n",
       "0                                  Yes                     4.0   \n",
       "1  Yes, but I had to reveal the answer                     4.0   \n",
       "2                                  Yes                     4.0   \n",
       "3                                  Yes                     4.0   \n",
       "4                                  Yes                     4.0   \n",
       "5  Yes, but I had to reveal the answer                     1.0   \n",
       "6                                  Yes                     3.0   \n",
       "7  Yes, but I had to reveal the answer                     4.0   \n",
       "8  Yes, but I had to reveal the answer                     3.0   \n",
       "9                                  Yes                     5.0   \n",
       "\n",
       "   self-typical-interactions  \\\n",
       "0                        4.0   \n",
       "1                        4.0   \n",
       "2                        4.0   \n",
       "3                        4.0   \n",
       "4                        4.0   \n",
       "5                        1.0   \n",
       "6                        1.0   \n",
       "7                        1.0   \n",
       "8                        2.0   \n",
       "9                        5.0   \n",
       "\n",
       "                                        conversation  \\\n",
       "0  Teacher: (generic)Hi Mariana, please talk me t...   \n",
       "1  Teacher: (generic)Hi Ayisha, please talk me th...   \n",
       "2  Teacher: (generic)Hi Scott - talk me through y...   \n",
       "3  Teacher: (generic)Hi DeAndre, tell me your ans...   \n",
       "4  Teacher: (generic)Hi Cody, talk me through you...   \n",
       "5  Teacher: (focus)Would you like to recheck your...   \n",
       "6  Teacher: (probing)You are almost there with yo...   \n",
       "7  Teacher: (focus)You are correct in the amount ...   \n",
       "8  Teacher: (focus)X cannot be 100 if 2x is 150 w...   \n",
       "9  Teacher: (generic)Hi , could you please walk m...   \n",
       "\n",
       "                                          strategies  \\\n",
       "0                 [generic, focus, telling, generic]   \n",
       "1  [generic, focus, focus, telling, focus, tellin...   \n",
       "2                     [generic, focus, focus, focus]   \n",
       "3            [generic, generic, focus, focus, focus]   \n",
       "4                            [generic, focus, focus]   \n",
       "5  [focus, focus, focus, probing, focus, generic,...   \n",
       "6                          [probing, focus, generic]   \n",
       "7  [focus, focus, focus, generic, telling, focus,...   \n",
       "8                 [focus, telling, generic, generic]   \n",
       "9                          [generic, focus, generic]   \n",
       "\n",
       "                                    cut_conversation  \n",
       "0  Teacher: Hi Mariana, please talk me through yo...  \n",
       "1  Teacher: Hi Ayisha, please talk me through you...  \n",
       "2  Teacher: Hi Scott - talk me through your answe...  \n",
       "3  Teacher: Hi DeAndre, tell me your answer |EOM|...  \n",
       "4  Teacher: Hi Cody, talk me through your solutio...  \n",
       "5  Teacher: Would you like to recheck your answer...  \n",
       "6  Teacher: You are almost there with you answer ...  \n",
       "7  Teacher: You are correct in the amount the rid...  \n",
       "8  Teacher: X cannot be 100 if 2x is 150 would yo...  \n",
       "9  Teacher: Hi , could you please walk me through...  "
      ]
     },
     "execution_count": 24,
     "metadata": {},
     "output_type": "execute_result"
    }
   ],
   "source": [
    "data.head(10)"
   ]
  },
  {
   "cell_type": "code",
   "execution_count": 25,
   "id": "904d3293-609e-47e8-89ef-5c37632f1b59",
   "metadata": {},
   "outputs": [
    {
     "data": {
      "text/plain": [
       "\"Teacher: (generic)Hi Mariana, please talk me through your solution|EOM|Student: Sure. I started by letting x be the number of spoons Julia bought. Then I added 5 to x to get the total number of spoons. Next, I subtracted 3 from the total number of spoons to get the number of spoons left. Finally, I set up an equation and solved for x, which was 4. So Julia bought a package of 4 spoons.|EOM|Teacher: (focus)Okay -  you've overcomplicated this. Let's start again. We know Julia has 12 spoons when setting the table. We also know she used three whilst sampling her stew. How many is that altogether?|EOM|Student: 12 - 3 = 9. So Julia had 9 spoons left when setting the table.|EOM|Teacher: (telling)No, you need to add as she still has the spoons, 3 have just been used|EOM|Student: Oh, right. 12 + 3 = 15. So Julia had 15 spoons altogether. And since her husband gave her 5 spoons, she must have bought 10 spoons.|EOM|Teacher: (generic)Yes, that's it|EOM|Student: So Julia bought a package of 10 spoons.\""
      ]
     },
     "execution_count": 25,
     "metadata": {},
     "output_type": "execute_result"
    }
   ],
   "source": [
    "data.iloc[0][\"conversation\"]"
   ]
  },
  {
   "cell_type": "code",
   "execution_count": 26,
   "id": "b01f3c5d-863c-4e2d-96e9-0e826f464591",
   "metadata": {},
   "outputs": [],
   "source": [
    "PROMPT = \"\"\"\n",
    "The following is a fragment of a conversation between a student and a teacher:\n",
    "{conversation}\n",
    "\"\"\"\n",
    "# PROMPT = \"\"\"A tutor and a student work together to solve the following math word problem. \n",
    "# Math problem: {problem}\n",
    "# The correct solution is as follows:\n",
    "# {ground_truth}\n",
    "# The student's solution is as follows:\n",
    "# {student_solution}\n",
    "# The following is a fragment of a conversation with a teacher:\n",
    "# {conversation}\n",
    "# \"\"\""
   ]
  },
  {
   "cell_type": "code",
   "execution_count": 27,
   "id": "f9ffc043-0ba1-4708-a471-4c49d07f0a6e",
   "metadata": {},
   "outputs": [],
   "source": [
    "from mathdial import interactivetutoring\n",
    "from tqdm import tqdm"
   ]
  },
  {
   "cell_type": "code",
   "execution_count": 28,
   "id": "a1b0239f-f2f8-4542-947c-03d8080e74f3",
   "metadata": {},
   "outputs": [],
   "source": [
    "length_in_replics = []\n",
    "length_in_teacher_replics = []\n",
    "\n",
    "index = 0\n",
    "header = [\"index\", \"text\", \"label\"]\n",
    "new_data = []\n",
    "import csv\n",
    "\n",
    "for i, problem in data.iterrows():\n",
    "    question = problem[\"question\"]\n",
    "    ground_truth_solution = problem[\"ground_truth\"]\n",
    "    incorrect_solution = problem[\"student_incorrect_solution\"]\n",
    "\n",
    "    replics = problem[\"cut_conversation\"].split(\"|EOM|\")\n",
    "    uncut_replics = problem[\"conversation\"].split(\"|EOM|\")\n",
    "    length_in_replics.append(len(replics))\n",
    "\n",
    "    teacher_replics = 0\n",
    "    for j, replic in enumerate(replics):\n",
    "        if replic[:8] == \"Teacher:\" and j > 0:\n",
    "            teacher_replics += 1\n",
    "            a, b = uncut_replics[j].find(\"(\") + 1, uncut_replics[j].find(\")\")\n",
    "            if a >= 0 and b >= 0:\n",
    "                label = uncut_replics[j][a:b]\n",
    "                if label not in strategies:\n",
    "                    print(\"ALARM: \", label)\n",
    "                    print(uncut_replics[j])\n",
    "\n",
    "\n",
    "                start = max(0, j - 3) #for shorter windows\n",
    "                # text = PROMPT.format(problem=question, ground_truth=ground_truth_solution, \\\n",
    "                                     # student_solution=incorrect_solution, \\\n",
    "                                     # conversation=\"\\n\".join(replics[start:j + 1]))\n",
    "                text = PROMPT.format(conversation=\"\\n\".join(replics[start:j]))\n",
    "                \n",
    "                new_data.append([index, text, label])\n",
    "                index += 1\n",
    "\n",
    "    length_in_teacher_replics.append(teacher_replics)\n"
   ]
  },
  {
   "cell_type": "code",
   "execution_count": 29,
   "id": "2ebb4d35-52f5-43bf-9550-efec38a332e1",
   "metadata": {},
   "outputs": [],
   "source": [
    "new_data = pd.DataFrame(new_data, columns=header)"
   ]
  },
  {
   "cell_type": "code",
   "execution_count": 30,
   "id": "82cf7f60-d18f-44ab-88ce-058c473d95c7",
   "metadata": {},
   "outputs": [],
   "source": [
    "new_data.to_csv('test_only_dialogue_window_1.csv', index=False)"
   ]
  },
  {
   "cell_type": "code",
   "execution_count": 31,
   "id": "b34fad26-2121-4c93-a84b-269040ad9cd1",
   "metadata": {},
   "outputs": [
    {
     "name": "stdout",
     "output_type": "stream",
     "text": [
      "number of replics on average:  11.732888146911518  +-  5.536834028360047\n",
      "number of teacher replics on average:  5.175292153589315  +-  2.744122364687083\n"
     ]
    }
   ],
   "source": [
    "import numpy as np\n",
    "print(\"number of replics on average: \", np.array(length_in_replics).mean(), \" +- \", np.array(length_in_replics).std())\n",
    "print(\"number of teacher replics on average: \", np.array(length_in_teacher_replics).mean(), \" +- \", np.array(length_in_teacher_replics).std())"
   ]
  },
  {
   "cell_type": "code",
   "execution_count": 32,
   "id": "f476b850-5c45-4862-b43b-018b8d9e3235",
   "metadata": {},
   "outputs": [
    {
     "data": {
      "text/plain": [
       "\"Teacher: Hi DeAndre, tell me your answer |EOM|Student: 5|EOM|Teacher: How did you get there?|EOM|Student: Josh started with 3 balls and added 1 ball each week for 4 weeks, so he would be juggling 3+1+1+1+1 = 7 balls at the end of the fourth week. After dropping three balls, he was left with 7-3 = 4 balls. But two of the dropped balls were caught, so he got them back and had 4+2 = 6 balls. Since one ball was lost, he was left juggling with 6-1 = 5 balls.|EOM|Teacher: You've gone too far with this one. It's only asking how mnay he started juggling with|EOM|Student: Oh, right. He started with 3 balls. So he was juggling 3 balls at the beginning of the talent show.|EOM|Teacher: Yes, then adds 1 ball for each of the 4 weeks. |EOM|Student: So he would be juggling 3+1+1+1+1 = 7 balls at the end of the fourth week.|EOM|Teacher: And finally drops 3 making the total..|EOM|Student: 4 balls.\""
      ]
     },
     "execution_count": 32,
     "metadata": {},
     "output_type": "execute_result"
    }
   ],
   "source": [
    "data[\"cut_conversation\"][3]"
   ]
  },
  {
   "cell_type": "code",
   "execution_count": null,
   "id": "589f0610-ad90-4e4e-bbcc-28ee1e1addca",
   "metadata": {},
   "outputs": [],
   "source": []
  }
 ],
 "metadata": {
  "kernelspec": {
   "display_name": "Python 3 (ipykernel)",
   "language": "python",
   "name": "python3"
  },
  "language_info": {
   "codemirror_mode": {
    "name": "ipython",
    "version": 3
   },
   "file_extension": ".py",
   "mimetype": "text/x-python",
   "name": "python",
   "nbconvert_exporter": "python",
   "pygments_lexer": "ipython3",
   "version": "3.11.4"
  }
 },
 "nbformat": 4,
 "nbformat_minor": 5
}
