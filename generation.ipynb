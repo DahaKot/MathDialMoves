{
 "cells": [
  {
   "cell_type": "code",
   "execution_count": 12,
   "metadata": {},
   "outputs": [],
   "source": [
    "import openai\n",
    "import pandas as pd\n",
    "from sklearn.metrics import accuracy_score, confusion_matrix\n",
    "import seaborn as sns\n",
    "import matplotlib.pyplot as plt\n",
    "from tqdm import tqdm\n",
    "\n",
    "# Set up OpenAI API\n",
    "openai.api_key = \"\"\n",
    "\n",
    "# Load train and test datasets\n",
    "train_data = pd.read_csv(\"./data/train_no_window_proper_prompt.csv\")\n",
    "test_data = pd.read_csv(\"./data/test_no_window_proper_prompt.csv\")\n",
    "\n",
    "# Few-shot learning prompt template\n",
    "# Focus examples:\n",
    "# - Seek Strategy - So what should you do next?\n",
    "# - Guiding Student - Can you calculate . . . ?\n",
    "# - Recall Relevant Information - Can you reread the question and tell me what is . . . ?\n",
    "# Probing examples:\n",
    "# - Asking for Explanation - Why do you think you need to add these numbers?\n",
    "# - Seeking Self Correction - Are you sure you need to add here?\n",
    "# - Perturbing the Question - How would things change if they had . . . items instead?\n",
    "# - Seeking World Knowledge - How do you calculate the perimeter of a square?\n",
    "# Telling:\n",
    "# - Revealing Strategy - You need to add . . . to . . . to get your answer.\n",
    "# - Revealing Answer - No, he had . . . items.\n",
    "# Generic examples:\n",
    "# - Greeting/Fairwell - Hi . . . , how are you doing with the word problem?\n",
    "# - General inquiry - Can you go walk me through your solution?\n",
    "\n",
    "#Generate what a teacher should say right now and then name the strategy that generated answer responds to.\n",
    "# Predict, what strategy out of these four: {labels}, is better to use for the teacher to answer to the last utterance. Use the description above to help you. Output only the name of the strategy.\n",
    "\n",
    "\n",
    "prompt_template = \"\"\"\n",
    "{text}\n",
    "Teacher: ({label})\n",
    "\"\"\"\n",
    "\n",
    "\n",
    "\n",
    "# Get unique labels from the train dataset\n",
    "labels = train_data[\"label\"].unique().tolist()\n",
    "\n",
    "# Train the model using few-shot learning\n",
    "def train_model(text, label):\n",
    "    prompt = prompt_template.format(text=text, label=label)\n",
    "    response = openai.ChatCompletion.create(\n",
    "                model=\"gpt-3.5-turbo\",\n",
    "                messages=[{\"role\": \"system\", \"content\": prompt}],\n",
    "                temperature=0,\n",
    "                max_tokens=512\n",
    "            )\n",
    "    return response.choices[0].message.content.strip()"
   ]
  },
  {
   "cell_type": "code",
   "execution_count": 13,
   "metadata": {},
   "outputs": [
    {
     "name": "stderr",
     "output_type": "stream",
     "text": [
      "845it [28:15,  2.01s/it]\n"
     ]
    },
    {
     "ename": "RateLimitError",
     "evalue": "Rate limit reached for gpt-3.5-turbo in organization org-FxrAWsFfShXnkwK3xYLhJE2h on requests per day (RPD): Limit 10000, Used 10000, Requested 1. Please try again in 8.64s. Visit https://platform.openai.com/account/rate-limits to learn more.",
     "output_type": "error",
     "traceback": [
      "\u001b[0;31m---------------------------------------------------------------------------\u001b[0m",
      "\u001b[0;31mRateLimitError\u001b[0m                            Traceback (most recent call last)",
      "Cell \u001b[0;32mIn[13], line 5\u001b[0m\n\u001b[1;32m      3\u001b[0m predicted_labels \u001b[39m=\u001b[39m []\n\u001b[1;32m      4\u001b[0m \u001b[39mfor\u001b[39;00m text, label \u001b[39min\u001b[39;00m tqdm(\u001b[39mzip\u001b[39m(test_data[\u001b[39m\"\u001b[39m\u001b[39mtext\u001b[39m\u001b[39m\"\u001b[39m], test_data[\u001b[39m\"\u001b[39m\u001b[39mlabel\u001b[39m\u001b[39m\"\u001b[39m])):\n\u001b[0;32m----> 5\u001b[0m     predicted_labels\u001b[39m.\u001b[39mappend(train_model(text, label))\n",
      "Cell \u001b[0;32mIn[12], line 49\u001b[0m, in \u001b[0;36mtrain_model\u001b[0;34m(text, label)\u001b[0m\n\u001b[1;32m     47\u001b[0m \u001b[39mdef\u001b[39;00m \u001b[39mtrain_model\u001b[39m(text, label):\n\u001b[1;32m     48\u001b[0m     prompt \u001b[39m=\u001b[39m prompt_template\u001b[39m.\u001b[39mformat(text\u001b[39m=\u001b[39mtext, label\u001b[39m=\u001b[39mlabel)\n\u001b[0;32m---> 49\u001b[0m     response \u001b[39m=\u001b[39m openai\u001b[39m.\u001b[39mChatCompletion\u001b[39m.\u001b[39mcreate(\n\u001b[1;32m     50\u001b[0m                 model\u001b[39m=\u001b[39m\u001b[39m\"\u001b[39m\u001b[39mgpt-3.5-turbo\u001b[39m\u001b[39m\"\u001b[39m,\n\u001b[1;32m     51\u001b[0m                 messages\u001b[39m=\u001b[39m[{\u001b[39m\"\u001b[39m\u001b[39mrole\u001b[39m\u001b[39m\"\u001b[39m: \u001b[39m\"\u001b[39m\u001b[39msystem\u001b[39m\u001b[39m\"\u001b[39m, \u001b[39m\"\u001b[39m\u001b[39mcontent\u001b[39m\u001b[39m\"\u001b[39m: prompt}],\n\u001b[1;32m     52\u001b[0m                 temperature\u001b[39m=\u001b[39m\u001b[39m0\u001b[39m,\n\u001b[1;32m     53\u001b[0m                 max_tokens\u001b[39m=\u001b[39m\u001b[39m512\u001b[39m\n\u001b[1;32m     54\u001b[0m             )\n\u001b[1;32m     55\u001b[0m     \u001b[39mreturn\u001b[39;00m response\u001b[39m.\u001b[39mchoices[\u001b[39m0\u001b[39m]\u001b[39m.\u001b[39mmessage\u001b[39m.\u001b[39mcontent\u001b[39m.\u001b[39mstrip()\n",
      "File \u001b[0;32m~/miniconda3/lib/python3.11/site-packages/openai/api_resources/chat_completion.py:25\u001b[0m, in \u001b[0;36mChatCompletion.create\u001b[0;34m(cls, *args, **kwargs)\u001b[0m\n\u001b[1;32m     23\u001b[0m \u001b[39mwhile\u001b[39;00m \u001b[39mTrue\u001b[39;00m:\n\u001b[1;32m     24\u001b[0m     \u001b[39mtry\u001b[39;00m:\n\u001b[0;32m---> 25\u001b[0m         \u001b[39mreturn\u001b[39;00m \u001b[39msuper\u001b[39m()\u001b[39m.\u001b[39mcreate(\u001b[39m*\u001b[39margs, \u001b[39m*\u001b[39m\u001b[39m*\u001b[39mkwargs)\n\u001b[1;32m     26\u001b[0m     \u001b[39mexcept\u001b[39;00m TryAgain \u001b[39mas\u001b[39;00m e:\n\u001b[1;32m     27\u001b[0m         \u001b[39mif\u001b[39;00m timeout \u001b[39mis\u001b[39;00m \u001b[39mnot\u001b[39;00m \u001b[39mNone\u001b[39;00m \u001b[39mand\u001b[39;00m time\u001b[39m.\u001b[39mtime() \u001b[39m>\u001b[39m start \u001b[39m+\u001b[39m timeout:\n",
      "File \u001b[0;32m~/miniconda3/lib/python3.11/site-packages/openai/api_resources/abstract/engine_api_resource.py:155\u001b[0m, in \u001b[0;36mEngineAPIResource.create\u001b[0;34m(cls, api_key, api_base, api_type, request_id, api_version, organization, **params)\u001b[0m\n\u001b[1;32m    129\u001b[0m \u001b[39m@classmethod\u001b[39m\n\u001b[1;32m    130\u001b[0m \u001b[39mdef\u001b[39;00m \u001b[39mcreate\u001b[39m(\n\u001b[1;32m    131\u001b[0m     \u001b[39mcls\u001b[39m,\n\u001b[0;32m   (...)\u001b[0m\n\u001b[1;32m    138\u001b[0m     \u001b[39m*\u001b[39m\u001b[39m*\u001b[39mparams,\n\u001b[1;32m    139\u001b[0m ):\n\u001b[1;32m    140\u001b[0m     (\n\u001b[1;32m    141\u001b[0m         deployment_id,\n\u001b[1;32m    142\u001b[0m         engine,\n\u001b[0;32m   (...)\u001b[0m\n\u001b[1;32m    152\u001b[0m         api_key, api_base, api_type, api_version, organization, \u001b[39m*\u001b[39m\u001b[39m*\u001b[39mparams\n\u001b[1;32m    153\u001b[0m     )\n\u001b[0;32m--> 155\u001b[0m     response, _, api_key \u001b[39m=\u001b[39m requestor\u001b[39m.\u001b[39mrequest(\n\u001b[1;32m    156\u001b[0m         \u001b[39m\"\u001b[39m\u001b[39mpost\u001b[39m\u001b[39m\"\u001b[39m,\n\u001b[1;32m    157\u001b[0m         url,\n\u001b[1;32m    158\u001b[0m         params\u001b[39m=\u001b[39mparams,\n\u001b[1;32m    159\u001b[0m         headers\u001b[39m=\u001b[39mheaders,\n\u001b[1;32m    160\u001b[0m         stream\u001b[39m=\u001b[39mstream,\n\u001b[1;32m    161\u001b[0m         request_id\u001b[39m=\u001b[39mrequest_id,\n\u001b[1;32m    162\u001b[0m         request_timeout\u001b[39m=\u001b[39mrequest_timeout,\n\u001b[1;32m    163\u001b[0m     )\n\u001b[1;32m    165\u001b[0m     \u001b[39mif\u001b[39;00m stream:\n\u001b[1;32m    166\u001b[0m         \u001b[39m# must be an iterator\u001b[39;00m\n\u001b[1;32m    167\u001b[0m         \u001b[39massert\u001b[39;00m \u001b[39mnot\u001b[39;00m \u001b[39misinstance\u001b[39m(response, OpenAIResponse)\n",
      "File \u001b[0;32m~/miniconda3/lib/python3.11/site-packages/openai/api_requestor.py:299\u001b[0m, in \u001b[0;36mAPIRequestor.request\u001b[0;34m(self, method, url, params, headers, files, stream, request_id, request_timeout)\u001b[0m\n\u001b[1;32m    278\u001b[0m \u001b[39mdef\u001b[39;00m \u001b[39mrequest\u001b[39m(\n\u001b[1;32m    279\u001b[0m     \u001b[39mself\u001b[39m,\n\u001b[1;32m    280\u001b[0m     method,\n\u001b[0;32m   (...)\u001b[0m\n\u001b[1;32m    287\u001b[0m     request_timeout: Optional[Union[\u001b[39mfloat\u001b[39m, Tuple[\u001b[39mfloat\u001b[39m, \u001b[39mfloat\u001b[39m]]] \u001b[39m=\u001b[39m \u001b[39mNone\u001b[39;00m,\n\u001b[1;32m    288\u001b[0m ) \u001b[39m-\u001b[39m\u001b[39m>\u001b[39m Tuple[Union[OpenAIResponse, Iterator[OpenAIResponse]], \u001b[39mbool\u001b[39m, \u001b[39mstr\u001b[39m]:\n\u001b[1;32m    289\u001b[0m     result \u001b[39m=\u001b[39m \u001b[39mself\u001b[39m\u001b[39m.\u001b[39mrequest_raw(\n\u001b[1;32m    290\u001b[0m         method\u001b[39m.\u001b[39mlower(),\n\u001b[1;32m    291\u001b[0m         url,\n\u001b[0;32m   (...)\u001b[0m\n\u001b[1;32m    297\u001b[0m         request_timeout\u001b[39m=\u001b[39mrequest_timeout,\n\u001b[1;32m    298\u001b[0m     )\n\u001b[0;32m--> 299\u001b[0m     resp, got_stream \u001b[39m=\u001b[39m \u001b[39mself\u001b[39m\u001b[39m.\u001b[39m_interpret_response(result, stream)\n\u001b[1;32m    300\u001b[0m     \u001b[39mreturn\u001b[39;00m resp, got_stream, \u001b[39mself\u001b[39m\u001b[39m.\u001b[39mapi_key\n",
      "File \u001b[0;32m~/miniconda3/lib/python3.11/site-packages/openai/api_requestor.py:710\u001b[0m, in \u001b[0;36mAPIRequestor._interpret_response\u001b[0;34m(self, result, stream)\u001b[0m\n\u001b[1;32m    702\u001b[0m     \u001b[39mreturn\u001b[39;00m (\n\u001b[1;32m    703\u001b[0m         \u001b[39mself\u001b[39m\u001b[39m.\u001b[39m_interpret_response_line(\n\u001b[1;32m    704\u001b[0m             line, result\u001b[39m.\u001b[39mstatus_code, result\u001b[39m.\u001b[39mheaders, stream\u001b[39m=\u001b[39m\u001b[39mTrue\u001b[39;00m\n\u001b[1;32m    705\u001b[0m         )\n\u001b[1;32m    706\u001b[0m         \u001b[39mfor\u001b[39;00m line \u001b[39min\u001b[39;00m parse_stream(result\u001b[39m.\u001b[39miter_lines())\n\u001b[1;32m    707\u001b[0m     ), \u001b[39mTrue\u001b[39;00m\n\u001b[1;32m    708\u001b[0m \u001b[39melse\u001b[39;00m:\n\u001b[1;32m    709\u001b[0m     \u001b[39mreturn\u001b[39;00m (\n\u001b[0;32m--> 710\u001b[0m         \u001b[39mself\u001b[39m\u001b[39m.\u001b[39m_interpret_response_line(\n\u001b[1;32m    711\u001b[0m             result\u001b[39m.\u001b[39mcontent\u001b[39m.\u001b[39mdecode(\u001b[39m\"\u001b[39m\u001b[39mutf-8\u001b[39m\u001b[39m\"\u001b[39m),\n\u001b[1;32m    712\u001b[0m             result\u001b[39m.\u001b[39mstatus_code,\n\u001b[1;32m    713\u001b[0m             result\u001b[39m.\u001b[39mheaders,\n\u001b[1;32m    714\u001b[0m             stream\u001b[39m=\u001b[39m\u001b[39mFalse\u001b[39;00m,\n\u001b[1;32m    715\u001b[0m         ),\n\u001b[1;32m    716\u001b[0m         \u001b[39mFalse\u001b[39;00m,\n\u001b[1;32m    717\u001b[0m     )\n",
      "File \u001b[0;32m~/miniconda3/lib/python3.11/site-packages/openai/api_requestor.py:775\u001b[0m, in \u001b[0;36mAPIRequestor._interpret_response_line\u001b[0;34m(self, rbody, rcode, rheaders, stream)\u001b[0m\n\u001b[1;32m    773\u001b[0m stream_error \u001b[39m=\u001b[39m stream \u001b[39mand\u001b[39;00m \u001b[39m\"\u001b[39m\u001b[39merror\u001b[39m\u001b[39m\"\u001b[39m \u001b[39min\u001b[39;00m resp\u001b[39m.\u001b[39mdata\n\u001b[1;32m    774\u001b[0m \u001b[39mif\u001b[39;00m stream_error \u001b[39mor\u001b[39;00m \u001b[39mnot\u001b[39;00m \u001b[39m200\u001b[39m \u001b[39m<\u001b[39m\u001b[39m=\u001b[39m rcode \u001b[39m<\u001b[39m \u001b[39m300\u001b[39m:\n\u001b[0;32m--> 775\u001b[0m     \u001b[39mraise\u001b[39;00m \u001b[39mself\u001b[39m\u001b[39m.\u001b[39mhandle_error_response(\n\u001b[1;32m    776\u001b[0m         rbody, rcode, resp\u001b[39m.\u001b[39mdata, rheaders, stream_error\u001b[39m=\u001b[39mstream_error\n\u001b[1;32m    777\u001b[0m     )\n\u001b[1;32m    778\u001b[0m \u001b[39mreturn\u001b[39;00m resp\n",
      "\u001b[0;31mRateLimitError\u001b[0m: Rate limit reached for gpt-3.5-turbo in organization org-FxrAWsFfShXnkwK3xYLhJE2h on requests per day (RPD): Limit 10000, Used 10000, Requested 1. Please try again in 8.64s. Visit https://platform.openai.com/account/rate-limits to learn more."
     ]
    }
   ],
   "source": [
    "# Make predictions on the test dataset\n",
    "# test_data[\"predicted_label\"] = test_data[\"text\"].apply(train_model)\n",
    "predicted_labels = []\n",
    "for text, label in tqdm(zip(test_data[\"text\"], test_data[\"label\"])):\n",
    "    predicted_labels.append(train_model(text, label))\n"
   ]
  },
  {
   "cell_type": "code",
   "execution_count": null,
   "metadata": {},
   "outputs": [
    {
     "name": "stdout",
     "output_type": "stream",
     "text": [
      "Utterances have been written to 'predicted_answers_no_label_proper_prompt.txt'.\n"
     ]
    }
   ],
   "source": [
    "def write_utterances_to_file(utterances, filename):\n",
    "    with open(filename, 'w') as file:\n",
    "        for i, utterance in enumerate(utterances):\n",
    "            file.write(f\"{i}: {utterance}\\n\")\n",
    "\n",
    "# File name to write the utterances to\n",
    "filename = \"predicted_answers_gold_label_proper_prompt.txt\"\n",
    "\n",
    "# Call the function to write utterances to the file\n",
    "write_utterances_to_file(predicted_labels, filename)\n",
    "\n",
    "print(f\"Utterances have been written to '{filename}'.\")"
   ]
  },
  {
   "cell_type": "code",
   "execution_count": null,
   "metadata": {},
   "outputs": [],
   "source": [
    "test_data[\"predicted_label\"] = predicted_labels"
   ]
  },
  {
   "cell_type": "code",
   "execution_count": null,
   "metadata": {},
   "outputs": [
    {
     "data": {
      "text/plain": [
       "(0         focus\n",
       " 1       telling\n",
       " 2       generic\n",
       " 3         focus\n",
       " 4         focus\n",
       "          ...   \n",
       " 3095    telling\n",
       " 3096      focus\n",
       " 3097      focus\n",
       " 3098      focus\n",
       " 3099    generic\n",
       " Name: label, Length: 3100, dtype: object,\n",
       " 0       Hi Mariana, thank you for sharing your solutio...\n",
       " 1       Good job on calculating the number of spoons J...\n",
       " 2       Great job! You got it. Julia had a total of 15...\n",
       " 3       Hi Ayisha, thank you for sharing your thought ...\n",
       " 4       That's correct. Now, let's add this additional...\n",
       "                               ...                        \n",
       " 3095    Actually, the correct total amount of minutes ...\n",
       " 3096    Thank you for sharing your solution. Let's go ...\n",
       " 3097    That's correct. 225 cars have valid tickets. N...\n",
       " 3098    That's correct. Now, can you calculate how man...\n",
       " 3099    Great job! Your final answer of 30 cars withou...\n",
       " Name: predicted_label, Length: 3100, dtype: object)"
      ]
     },
     "execution_count": 5,
     "metadata": {},
     "output_type": "execute_result"
    }
   ],
   "source": [
    "test_data[\"label\"], test_data[\"predicted_label\"]"
   ]
  },
  {
   "cell_type": "code",
   "execution_count": null,
   "metadata": {},
   "outputs": [
    {
     "name": "stdout",
     "output_type": "stream",
     "text": [
      "Accuracy: 0.0\n"
     ]
    },
    {
     "data": {
      "image/png": "[encoded data removed]",
      "text/plain": [
       "<Figure size 800x600 with 2 Axes>"
      ]
     },
     "metadata": {},
     "output_type": "display_data"
    }
   ],
   "source": [
    "# Evaluate accuracy\n",
    "accuracy = accuracy_score(test_data[\"label\"], test_data[\"predicted_label\"])\n",
    "print(\"Accuracy:\", accuracy)\n",
    "\n",
    "# Build confusion matrix\n",
    "cm = confusion_matrix(test_data[\"label\"], test_data[\"predicted_label\"], labels=labels)\n",
    "\n",
    "# Plot confusion matrix using seaborn\n",
    "plt.figure(figsize=(8, 6))\n",
    "sns.heatmap(cm, annot=True, cmap=\"Blues\", fmt=\"d\", xticklabels=labels, yticklabels=labels)\n",
    "plt.xlabel(\"Predicted Labels\")\n",
    "plt.ylabel(\"True Labels\")\n",
    "plt.title(\"Confusion Matrix\")\n",
    "plt.tight_layout()\n",
    "plt.show()"
   ]
  },
  {
   "cell_type": "code",
   "execution_count": null,
   "metadata": {},
   "outputs": [],
   "source": [
    "data = pd.read_json(\"./mathdial/output/chatgpt_baseline.jsonl\", lines=True)"
   ]
  },
  {
   "cell_type": "code",
   "execution_count": null,
   "metadata": {},
   "outputs": [
    {
     "name": "stdout",
     "output_type": "stream",
     "text": [
      "Teacher: (generic)Hi , could you please walk me through your solution?|EOM|Student: Sure! I started by figuring out that one dozen is equal to 12, so two dozens is equal to 2 x 12 = 24 pens. Then, I figured out that half of a dozen is equal to 6, so half of 12 is equal to 6 and half of a dozen is equal to 6. After that, I calculated that one and a half dozen is equal to 1 x 12 + 6 = 18 pens. Finally, I added 24 + 18 to get the total of two and a half dozens of pens, which is equal to 42 pens.|EOM|Teacher: (telling)steven in the first two sentences of your solution, you have correctly calculated that 2 dozens is 24 and half dozen is 6. so one and a half dozen would simply mean adding these two. |EOM|Student: Oh, that makes sense. So one and a half dozen is equal to 24 + 6 = 30 pens. Then, two and a half dozen is equal to 24 + 18 = 42 pens.|EOM|Teacher: (telling)two and a half dozen is equal to 30. |EOM|Student: No, two and a half dozen is equal to 24 + 18 = 42 pens.|EOM|Teacher: (focus)add one dozen + one dozen + half dozen and tell me how much do you get/|EOM|Student: One dozen is equal to 12, so two dozens is equal to 2 x 12 = 24 pens. Half of a dozen is equal to 6, so one and a half dozen is equal to 1 x 12 + 6 = 18 pens. Therefore, two and a half dozen is equal to 24 + 18 = 42 pens.|EOM|Teacher: (telling)the calculation should be either 24+6=30 or (12x2)+(12x 0.5)= 24+6=30. |EOM|Student: Yes, you're right. One and a half dozen is equal to 24 + 6 = 30 pens. Then, two and a half dozen is equal to 24 + 18 = 42 pens.\n"
     ]
    }
   ],
   "source": [
    "print(data[\"conversation\"][0])"
   ]
  },
  {
   "cell_type": "code",
   "execution_count": null,
   "metadata": {},
   "outputs": [
    {
     "data": {
      "text/plain": [
       "\"Roles.TEACHER: Hi Kayla! Could you walk me through your solution?<EOM>Roles.STUDENT: Sure! First, I know that one dozen is equal to 12 pens. So, two dozens would be 2 x 12 = 24 pens. Then, I remembered that half of a dozen is equal to 6 pens. So, half of 12 is 6 and half of a dozen is also 6. That means one and a half dozen is equal to 1 x 12 + 6 = 18 pens. Finally, I added 24 pens and 18 pens together to get a total of 42 pens. Did I miss anything?\\\\n\\\\nRoles.TEACHER: Great job explaining your steps, Kayla! Can you think of any other ways to solve this problem?\\\\n\\\\n\\\\nHmm, I could use a calculator to multiply 2 x 12 and add 1 x 12 + 6. That would give me the same answer of 42 pens. Is there another way to solve it?\\\\n\\\\nRoles.TEACHER: Yes, you could also think of it as 2.5 dozens, which is the same as 2 + 0.5 dozens. So, 2 x 12 = 24 pens and 0.5 x 12 = 6 pens. Adding those together gives us 30 pens. Then, we can multiply 0.5 x 12 again to get 6 more pens, giving us a total of 36 pens. Finally, we add 6 more pens to get a total of 42 pens. Does that make sense?\\\\n\\\\n\\\\nYes, I see how that works now. Thank you for explaining it to me, teacher!\\\\n\\\\nRoles.TEACHER: You're welcome, Kayla! Keep up the good work and always remember to think about different ways to solve a problem. It will help you become a better problem solver. Have a great day! <EOM>Roles.TEACHER: Great job, Kayla! You demonstrated a good understanding of the problem and showed flexibility in your problem-solving approach. Keep up the good work and continue to explore different strategies for solving math problems. If you have any more questions or need further clarification, feel free to ask. Have a wonderful day!<EOM>Roles.STUDENT: Thank you, teacher! I will definitely keep practicing and trying different methods. Have a great day too! <EOM>Roles.TEACHER: Thank you, Kayla! I'm glad to hear that you're motivated to keep practicing. If you ever need help or have any questions, don't hesitate to reach out. Have a fantastic day!<EOM>Roles.STUDENT: Roles.STUDENT: Thank you, teacher! I will definitely reach out if I need any help. Have a great day! <EOM>Roles.TEACHER: Thank you, Kayla! I'm here to help whenever you need it. Have a wonderful day too!<EOM>Roles.STUDENT: Thank you, teacher! I will keep practicing and trying different methods. Have a great day! <EOM>Roles.TEACHER: You're welcome, Kayla! Keep up the good work with your practice, and don't hesitate to ask if you have any more questions. Have a fantastic day!<EOM>Roles.STUDENT: Thank you, teacher! I will continue to practice and ask for help when needed. Have a great day! <EOM>Roles.TEACHER: You're welcome, Kayla! That's a great attitude to have. Keep up the good work, and have a wonderful day!\""
      ]
     },
     "execution_count": 9,
     "metadata": {},
     "output_type": "execute_result"
    }
   ],
   "source": [
    "data[\"chatgpt_baseline\"][0]"
   ]
  },
  {
   "cell_type": "code",
   "execution_count": null,
   "metadata": {},
   "outputs": [],
   "source": []
  }
 ],
 "metadata": {
  "kernelspec": {
   "display_name": "Python 3",
   "language": "python",
   "name": "python3"
  },
  "language_info": {
   "codemirror_mode": {
    "name": "ipython",
    "version": 3
   },
   "file_extension": ".py",
   "mimetype": "text/x-python",
   "name": "python",
   "nbconvert_exporter": "python",
   "pygments_lexer": "ipython3",
   "version": "3.11.4"
  }
 },
 "nbformat": 4,
 "nbformat_minor": 2
}
