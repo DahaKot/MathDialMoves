{
 "cells": [
  {
   "cell_type": "code",
   "execution_count": 1,
   "id": "5f933afe-1936-40fa-9090-13c2ce4035c0",
   "metadata": {},
   "outputs": [],
   "source": [
    "import pandas as pd"
   ]
  },
  {
   "cell_type": "code",
   "execution_count": 2,
   "id": "93d4bf42-6ce7-4d8d-951b-42b49118bcfd",
   "metadata": {},
   "outputs": [],
   "source": [
    "data = pd.read_csv(\"./mathdial/data/train.csv\")"
   ]
  },
  {
   "cell_type": "code",
   "execution_count": 3,
   "id": "d7067b76-c6c2-4058-8740-b1b1a7d7f204",
   "metadata": {},
   "outputs": [],
   "source": [
    "conversations = data[\"conversation\"]"
   ]
  },
  {
   "cell_type": "code",
   "execution_count": 4,
   "id": "0ed7b399-df93-48e3-957b-bc771f56b3ee",
   "metadata": {},
   "outputs": [],
   "source": [
    "strategies = {\"probing\": 0, \"generic\": 0, \"focus\": 0, \"telling\": 0}\n",
    "data['strategies'] = \"\"\n",
    "data['strategies'] = data['strategies'].astype('object')\n",
    "\n",
    "for i, line in enumerate(conversations):\n",
    "    variable_line = line\n",
    "    min_index = 0\n",
    "\n",
    "    current_strategies = []\n",
    "    while variable_line.find(\"(\", min_index) > 0:\n",
    "        a, b = variable_line.find(\"(\", min_index) + 1, variable_line.find(\")\", min_index)\n",
    "        strategy = variable_line[a:b]\n",
    "        if strategy not in strategies:\n",
    "            min_index = b + 1\n",
    "            continue\n",
    "            \n",
    "        strategies[strategy] += 1\n",
    "        current_strategies.append(strategy)\n",
    "    \n",
    "        variable_line = variable_line[:a - 1] + variable_line[b + 1:]\n",
    "\n",
    "    data.at[i, \"cut_conversation\"] = variable_line\n",
    "    data.at[i, \"strategies\"] = current_strategies"
   ]
  },
  {
   "cell_type": "code",
   "execution_count": 5,
   "id": "9a0f76a1-06de-4a02-9439-d36ddd5a73e4",
   "metadata": {},
   "outputs": [
    {
     "data": {
      "text/plain": [
       "{'probing': 3300, 'generic': 3566, 'focus': 5549, 'telling': 2491}"
      ]
     },
     "execution_count": 5,
     "metadata": {},
     "output_type": "execute_result"
    }
   ],
   "source": [
    "strategies"
   ]
  },
  {
   "cell_type": "code",
   "execution_count": 6,
   "id": "be1f5f4f-d503-4fb1-be26-efb5cff4eff9",
   "metadata": {},
   "outputs": [],
   "source": [
    "from matplotlib import pyplot as plt"
   ]
  },
  {
   "cell_type": "code",
   "execution_count": 7,
   "id": "41efe9e5-c762-4ca4-970f-3dd7a569c5ba",
   "metadata": {},
   "outputs": [
    {
     "data": {
      "text/plain": [
       "<BarContainer object of 4 artists>"
      ]
     },
     "execution_count": 7,
     "metadata": {},
     "output_type": "execute_result"
    },
    {
     "data": {
      "image/png": "[encoded data removed]",
      "text/plain": [
       "<Figure size 640x480 with 1 Axes>"
      ]
     },
     "metadata": {},
     "output_type": "display_data"
    }
   ],
   "source": [
    "plt.bar(strategies.keys(), strategies.values())"
   ]
  },
  {
   "cell_type": "code",
   "execution_count": 8,
   "id": "64cf689d-06f5-41eb-aa4c-8550a72fc9b8",
   "metadata": {},
   "outputs": [
    {
     "data": {
      "text/html": [
       "<div>\n",
       "<style scoped>\n",
       "    .dataframe tbody tr th:only-of-type {\n",
       "        vertical-align: middle;\n",
       "    }\n",
       "\n",
       "    .dataframe tbody tr th {\n",
       "        vertical-align: top;\n",
       "    }\n",
       "\n",
       "    .dataframe thead th {\n",
       "        text-align: right;\n",
       "    }\n",
       "</style>\n",
       "<table border=\"1\" class=\"dataframe\">\n",
       "  <thead>\n",
       "    <tr style=\"text-align: right;\">\n",
       "      <th></th>\n",
       "      <th>qid</th>\n",
       "      <th>scenario</th>\n",
       "      <th>question</th>\n",
       "      <th>ground_truth</th>\n",
       "      <th>student_incorrect_solution</th>\n",
       "      <th>student_profile</th>\n",
       "      <th>teacher_described_confusion</th>\n",
       "      <th>self-correctness</th>\n",
       "      <th>self-typical-confusion</th>\n",
       "      <th>self-typical-interactions</th>\n",
       "      <th>conversation</th>\n",
       "      <th>strategies</th>\n",
       "      <th>cut_conversation</th>\n",
       "    </tr>\n",
       "  </thead>\n",
       "  <tbody>\n",
       "    <tr>\n",
       "      <th>0</th>\n",
       "      <td>5000012</td>\n",
       "      <td>1</td>\n",
       "      <td>Nancy is filling an aquarium for her fish. She...</td>\n",
       "      <td>First calculate the volume of the aquarium by ...</td>\n",
       "      <td>The aquarium has a volume of 4 x 6 x 3 = 72 cu...</td>\n",
       "      <td>Steven is a 7th grade student. He has difficul...</td>\n",
       "      <td>He added a step after completing the problem.</td>\n",
       "      <td>Yes</td>\n",
       "      <td>3.0</td>\n",
       "      <td>3.0</td>\n",
       "      <td>Teacher: (probing)Steven, If you had 4 of some...</td>\n",
       "      <td>[probing, probing, generic]</td>\n",
       "      <td>Teacher: Steven, If you had 4 of something and...</td>\n",
       "    </tr>\n",
       "    <tr>\n",
       "      <th>1</th>\n",
       "      <td>5000084</td>\n",
       "      <td>2</td>\n",
       "      <td>John is very unfit and decides to work up to d...</td>\n",
       "      <td>He needs to do 15*3=45 progressions\\nThat will...</td>\n",
       "      <td>To get to 15 reps, John will take 15 - 1 = 14 ...</td>\n",
       "      <td>Stephanie is a 7th grade student. She has diff...</td>\n",
       "      <td>She became fixated on a wrong calculation and ...</td>\n",
       "      <td>No</td>\n",
       "      <td>2.0</td>\n",
       "      <td>2.0</td>\n",
       "      <td>Teacher: (probing)Stephanie, How many days wil...</td>\n",
       "      <td>[probing, probing, probing, telling, probing, ...</td>\n",
       "      <td>Teacher: Stephanie, How many days will it take...</td>\n",
       "    </tr>\n",
       "    <tr>\n",
       "      <th>2</th>\n",
       "      <td>5000982</td>\n",
       "      <td>3</td>\n",
       "      <td>James has 20 pairs of red socks and half as ma...</td>\n",
       "      <td>He has 20/2=10 black socks\\nSo he has 20+10=30...</td>\n",
       "      <td>James has 20/2 = 10 pairs of black socks.\\nJam...</td>\n",
       "      <td>DeAndre is a 7th grade student. He has problem...</td>\n",
       "      <td>He was technically correct.</td>\n",
       "      <td>Yes</td>\n",
       "      <td>5.0</td>\n",
       "      <td>5.0</td>\n",
       "      <td>Teacher: (probing)DeAndre, you successfully an...</td>\n",
       "      <td>[probing, probing, probing, probing, generic]</td>\n",
       "      <td>Teacher: DeAndre, you successfully answered th...</td>\n",
       "    </tr>\n",
       "    <tr>\n",
       "      <th>3</th>\n",
       "      <td>5000274</td>\n",
       "      <td>4</td>\n",
       "      <td>Jason drives past 3 convenience stores on his ...</td>\n",
       "      <td>First find the additional distance between the...</td>\n",
       "      <td>The distance between the second store and thir...</td>\n",
       "      <td>Winnie is a 7th grade student. She struggle to...</td>\n",
       "      <td>He understood it when it was broken down step ...</td>\n",
       "      <td>Yes</td>\n",
       "      <td>3.0</td>\n",
       "      <td>3.0</td>\n",
       "      <td>Teacher: (probing)What is the distance between...</td>\n",
       "      <td>[probing, probing, probing, probing, probing, ...</td>\n",
       "      <td>Teacher: What is the distance between the firs...</td>\n",
       "    </tr>\n",
       "    <tr>\n",
       "      <th>4</th>\n",
       "      <td>5000797</td>\n",
       "      <td>5</td>\n",
       "      <td>Wanda walks her daughter .5 miles to school in...</td>\n",
       "      <td>She walks .5 miles to school and back 4 times ...</td>\n",
       "      <td>Every day, Wanda walks a total of 0.5 + 0.5 = ...</td>\n",
       "      <td>Cody is a 7th grade student. He has problem wi...</td>\n",
       "      <td>He forgot she walked twice each day!</td>\n",
       "      <td>Yes</td>\n",
       "      <td>3.0</td>\n",
       "      <td>3.0</td>\n",
       "      <td>Teacher: (probing)Cody, How far doe Wanda walk...</td>\n",
       "      <td>[probing, probing, probing, telling, probing, ...</td>\n",
       "      <td>Teacher: Cody, How far doe Wanda walk each mor...</td>\n",
       "    </tr>\n",
       "    <tr>\n",
       "      <th>5</th>\n",
       "      <td>5001017</td>\n",
       "      <td>1</td>\n",
       "      <td>Chef Michel made shepherd's pie cut into 4 pie...</td>\n",
       "      <td>Chef Michel sold 52 / 4 = 13 shepherd's pies.\\...</td>\n",
       "      <td>Chef Michel made 4 x 52 = 208 slices of shephe...</td>\n",
       "      <td>Alejandra is a 7th grade student. She has prob...</td>\n",
       "      <td>Student miscalculated in the first step by mul...</td>\n",
       "      <td>Yes</td>\n",
       "      <td>4.0</td>\n",
       "      <td>4.0</td>\n",
       "      <td>Teacher: (generic)Hi Alejandra, could you plea...</td>\n",
       "      <td>[generic, probing, focus, generic]</td>\n",
       "      <td>Teacher: Hi Alejandra, could you please outlin...</td>\n",
       "    </tr>\n",
       "    <tr>\n",
       "      <th>6</th>\n",
       "      <td>5000761</td>\n",
       "      <td>2</td>\n",
       "      <td>Annie spends 2 hours a week on chess club, 8 h...</td>\n",
       "      <td>First find the total number of extracurricular...</td>\n",
       "      <td>Annie spends 2+8+3 = 13 hours a week doing ext...</td>\n",
       "      <td>Scott is a 7th grade student. He struggle to r...</td>\n",
       "      <td>Student failed to notice the calculation was f...</td>\n",
       "      <td>Yes, but I had to reveal the answer</td>\n",
       "      <td>2.0</td>\n",
       "      <td>2.0</td>\n",
       "      <td>Teacher: (generic)Hi Scott, Can you walk me th...</td>\n",
       "      <td>[generic, probing, probing, focus, probing, te...</td>\n",
       "      <td>Teacher: Hi Scott, Can you walk me through you...</td>\n",
       "    </tr>\n",
       "    <tr>\n",
       "      <th>7</th>\n",
       "      <td>5000132</td>\n",
       "      <td>3</td>\n",
       "      <td>Forty percent of the students have elected to ...</td>\n",
       "      <td>100-40=60 percent of students are remaining.\\n...</td>\n",
       "      <td>If 40% of the students are learning from home,...</td>\n",
       "      <td>DeAndre is a 7th grade student. He struggle to...</td>\n",
       "      <td>Student duplicated division of groups</td>\n",
       "      <td>Yes, but I had to reveal the answer</td>\n",
       "      <td>4.0</td>\n",
       "      <td>4.0</td>\n",
       "      <td>Teacher: (generic)Hi DeAndre, could you please...</td>\n",
       "      <td>[generic, focus, focus, focus, focus, focus, f...</td>\n",
       "      <td>Teacher: Hi DeAndre, could you please explain ...</td>\n",
       "    </tr>\n",
       "    <tr>\n",
       "      <th>8</th>\n",
       "      <td>5000971</td>\n",
       "      <td>4</td>\n",
       "      <td>Jack collects all his neighbors' recycling and...</td>\n",
       "      <td>First find the total amount Jack earned from t...</td>\n",
       "      <td>Let x be the number of cans Jack recycled.\\nHe...</td>\n",
       "      <td>Claire is a 7th grade student. She has problem...</td>\n",
       "      <td>Student employed an overly complex approach wi...</td>\n",
       "      <td>Yes</td>\n",
       "      <td>4.0</td>\n",
       "      <td>2.0</td>\n",
       "      <td>Teacher: (generic)Hi Claire, can you walk me t...</td>\n",
       "      <td>[generic, probing, focus, generic]</td>\n",
       "      <td>Teacher: Hi Claire, can you walk me through yo...</td>\n",
       "    </tr>\n",
       "    <tr>\n",
       "      <th>9</th>\n",
       "      <td>5001057</td>\n",
       "      <td>5</td>\n",
       "      <td>The ski lift carries skiers all the way from t...</td>\n",
       "      <td>East trip up and back down the mountain takes ...</td>\n",
       "      <td>There are 60 minutes in an hour, so 2 hours is...</td>\n",
       "      <td>Jia is a 7th grade student. She has difficulty...</td>\n",
       "      <td>Student both divided and multipled by a time p...</td>\n",
       "      <td>Yes, but I had to reveal the answer</td>\n",
       "      <td>4.0</td>\n",
       "      <td>4.0</td>\n",
       "      <td>Teacher: (generic)hi Jia, can you explain your...</td>\n",
       "      <td>[generic, focus, focus, focus, focus, focus, f...</td>\n",
       "      <td>Teacher: hi Jia, can you explain your approach...</td>\n",
       "    </tr>\n",
       "  </tbody>\n",
       "</table>\n",
       "</div>"
      ],
      "text/plain": [
       "       qid  scenario                                           question  \\\n",
       "0  5000012         1  Nancy is filling an aquarium for her fish. She...   \n",
       "1  5000084         2  John is very unfit and decides to work up to d...   \n",
       "2  5000982         3  James has 20 pairs of red socks and half as ma...   \n",
       "3  5000274         4  Jason drives past 3 convenience stores on his ...   \n",
       "4  5000797         5  Wanda walks her daughter .5 miles to school in...   \n",
       "5  5001017         1  Chef Michel made shepherd's pie cut into 4 pie...   \n",
       "6  5000761         2  Annie spends 2 hours a week on chess club, 8 h...   \n",
       "7  5000132         3  Forty percent of the students have elected to ...   \n",
       "8  5000971         4  Jack collects all his neighbors' recycling and...   \n",
       "9  5001057         5  The ski lift carries skiers all the way from t...   \n",
       "\n",
       "                                        ground_truth  \\\n",
       "0  First calculate the volume of the aquarium by ...   \n",
       "1  He needs to do 15*3=45 progressions\\nThat will...   \n",
       "2  He has 20/2=10 black socks\\nSo he has 20+10=30...   \n",
       "3  First find the additional distance between the...   \n",
       "4  She walks .5 miles to school and back 4 times ...   \n",
       "5  Chef Michel sold 52 / 4 = 13 shepherd's pies.\\...   \n",
       "6  First find the total number of extracurricular...   \n",
       "7  100-40=60 percent of students are remaining.\\n...   \n",
       "8  First find the total amount Jack earned from t...   \n",
       "9  East trip up and back down the mountain takes ...   \n",
       "\n",
       "                          student_incorrect_solution  \\\n",
       "0  The aquarium has a volume of 4 x 6 x 3 = 72 cu...   \n",
       "1  To get to 15 reps, John will take 15 - 1 = 14 ...   \n",
       "2  James has 20/2 = 10 pairs of black socks.\\nJam...   \n",
       "3  The distance between the second store and thir...   \n",
       "4  Every day, Wanda walks a total of 0.5 + 0.5 = ...   \n",
       "5  Chef Michel made 4 x 52 = 208 slices of shephe...   \n",
       "6  Annie spends 2+8+3 = 13 hours a week doing ext...   \n",
       "7  If 40% of the students are learning from home,...   \n",
       "8  Let x be the number of cans Jack recycled.\\nHe...   \n",
       "9  There are 60 minutes in an hour, so 2 hours is...   \n",
       "\n",
       "                                     student_profile  \\\n",
       "0  Steven is a 7th grade student. He has difficul...   \n",
       "1  Stephanie is a 7th grade student. She has diff...   \n",
       "2  DeAndre is a 7th grade student. He has problem...   \n",
       "3  Winnie is a 7th grade student. She struggle to...   \n",
       "4  Cody is a 7th grade student. He has problem wi...   \n",
       "5  Alejandra is a 7th grade student. She has prob...   \n",
       "6  Scott is a 7th grade student. He struggle to r...   \n",
       "7  DeAndre is a 7th grade student. He struggle to...   \n",
       "8  Claire is a 7th grade student. She has problem...   \n",
       "9  Jia is a 7th grade student. She has difficulty...   \n",
       "\n",
       "                         teacher_described_confusion  \\\n",
       "0      He added a step after completing the problem.   \n",
       "1  She became fixated on a wrong calculation and ...   \n",
       "2                        He was technically correct.   \n",
       "3  He understood it when it was broken down step ...   \n",
       "4               He forgot she walked twice each day!   \n",
       "5  Student miscalculated in the first step by mul...   \n",
       "6  Student failed to notice the calculation was f...   \n",
       "7              Student duplicated division of groups   \n",
       "8  Student employed an overly complex approach wi...   \n",
       "9  Student both divided and multipled by a time p...   \n",
       "\n",
       "                      self-correctness  self-typical-confusion  \\\n",
       "0                                  Yes                     3.0   \n",
       "1                                   No                     2.0   \n",
       "2                                  Yes                     5.0   \n",
       "3                                  Yes                     3.0   \n",
       "4                                  Yes                     3.0   \n",
       "5                                  Yes                     4.0   \n",
       "6  Yes, but I had to reveal the answer                     2.0   \n",
       "7  Yes, but I had to reveal the answer                     4.0   \n",
       "8                                  Yes                     4.0   \n",
       "9  Yes, but I had to reveal the answer                     4.0   \n",
       "\n",
       "   self-typical-interactions  \\\n",
       "0                        3.0   \n",
       "1                        2.0   \n",
       "2                        5.0   \n",
       "3                        3.0   \n",
       "4                        3.0   \n",
       "5                        4.0   \n",
       "6                        2.0   \n",
       "7                        4.0   \n",
       "8                        2.0   \n",
       "9                        4.0   \n",
       "\n",
       "                                        conversation  \\\n",
       "0  Teacher: (probing)Steven, If you had 4 of some...   \n",
       "1  Teacher: (probing)Stephanie, How many days wil...   \n",
       "2  Teacher: (probing)DeAndre, you successfully an...   \n",
       "3  Teacher: (probing)What is the distance between...   \n",
       "4  Teacher: (probing)Cody, How far doe Wanda walk...   \n",
       "5  Teacher: (generic)Hi Alejandra, could you plea...   \n",
       "6  Teacher: (generic)Hi Scott, Can you walk me th...   \n",
       "7  Teacher: (generic)Hi DeAndre, could you please...   \n",
       "8  Teacher: (generic)Hi Claire, can you walk me t...   \n",
       "9  Teacher: (generic)hi Jia, can you explain your...   \n",
       "\n",
       "                                          strategies  \\\n",
       "0                        [probing, probing, generic]   \n",
       "1  [probing, probing, probing, telling, probing, ...   \n",
       "2      [probing, probing, probing, probing, generic]   \n",
       "3  [probing, probing, probing, probing, probing, ...   \n",
       "4  [probing, probing, probing, telling, probing, ...   \n",
       "5                 [generic, probing, focus, generic]   \n",
       "6  [generic, probing, probing, focus, probing, te...   \n",
       "7  [generic, focus, focus, focus, focus, focus, f...   \n",
       "8                 [generic, probing, focus, generic]   \n",
       "9  [generic, focus, focus, focus, focus, focus, f...   \n",
       "\n",
       "                                    cut_conversation  \n",
       "0  Teacher: Steven, If you had 4 of something and...  \n",
       "1  Teacher: Stephanie, How many days will it take...  \n",
       "2  Teacher: DeAndre, you successfully answered th...  \n",
       "3  Teacher: What is the distance between the firs...  \n",
       "4  Teacher: Cody, How far doe Wanda walk each mor...  \n",
       "5  Teacher: Hi Alejandra, could you please outlin...  \n",
       "6  Teacher: Hi Scott, Can you walk me through you...  \n",
       "7  Teacher: Hi DeAndre, could you please explain ...  \n",
       "8  Teacher: Hi Claire, can you walk me through yo...  \n",
       "9  Teacher: hi Jia, can you explain your approach...  "
      ]
     },
     "execution_count": 8,
     "metadata": {},
     "output_type": "execute_result"
    }
   ],
   "source": [
    "data.head(10)"
   ]
  },
  {
   "cell_type": "code",
   "execution_count": 9,
   "id": "904d3293-609e-47e8-89ef-5c37632f1b59",
   "metadata": {},
   "outputs": [
    {
     "data": {
      "text/plain": [
       "'Teacher: (probing)Steven, If you had 4 of something and tripled that amount, how much would you have?|EOM|Steven: I would have 12 of something.|EOM|Teacher: (probing)So if Nancy triples the 18 cubic feet of water, how much would she have?|EOM|Steven: She would have 54 cubic feet of water.|EOM|Teacher: (generic)Exactly correct!'"
      ]
     },
     "execution_count": 9,
     "metadata": {},
     "output_type": "execute_result"
    }
   ],
   "source": [
    "data.iloc[0][\"conversation\"]"
   ]
  },
  {
   "cell_type": "code",
   "execution_count": 10,
   "id": "b01f3c5d-863c-4e2d-96e9-0e826f464591",
   "metadata": {},
   "outputs": [],
   "source": [
    "PROMPT = \"\"\"\n",
    "The following is a fragment of a conversation between a student and a teacher:\n",
    "{conversation}\n",
    "\"\"\"\n",
    "# PROMPT = \"\"\"A tutor and a student work together to solve the following math word problem. \n",
    "# Math problem: {problem}\n",
    "# The correct solution is as follows:\n",
    "# {ground_truth}\n",
    "# The student's solution is as follows:\n",
    "# {student_solution}\n",
    "# The following is a fragment of a conversation with a teacher:\n",
    "# {conversation}\n",
    "# \"\"\""
   ]
  },
  {
   "cell_type": "code",
   "execution_count": 11,
   "id": "f9ffc043-0ba1-4708-a471-4c49d07f0a6e",
   "metadata": {},
   "outputs": [],
   "source": [
    "from mathdial import interactivetutoring\n",
    "from tqdm import tqdm"
   ]
  },
  {
   "cell_type": "code",
   "execution_count": 12,
   "id": "a1b0239f-f2f8-4542-947c-03d8080e74f3",
   "metadata": {},
   "outputs": [],
   "source": [
    "length_in_replics = []\n",
    "length_in_teacher_replics = []\n",
    "\n",
    "index = 0\n",
    "header = [\"index\", \"text\", \"label\"]\n",
    "new_data = []\n",
    "import csv\n",
    "\n",
    "for i, problem in data.iterrows():\n",
    "    question = problem[\"question\"]\n",
    "    ground_truth_solution = problem[\"ground_truth\"]\n",
    "    incorrect_solution = problem[\"student_incorrect_solution\"]\n",
    "\n",
    "    replics = problem[\"cut_conversation\"].split(\"|EOM|\")\n",
    "    uncut_replics = problem[\"conversation\"].split(\"|EOM|\")\n",
    "    length_in_replics.append(len(replics))\n",
    "\n",
    "    teacher_replics = 0\n",
    "    for j, replic in enumerate(replics):\n",
    "        if replic[:8] == \"Teacher:\":\n",
    "            teacher_replics += 1\n",
    "            a, b = uncut_replics[j].find(\"(\") + 1, uncut_replics[j].find(\")\")\n",
    "            if a >= 0 and b >= 0:\n",
    "                label = uncut_replics[j][a:b]\n",
    "                if label not in strategies:\n",
    "                    print(\"ALARM: \", label)\n",
    "                    print(uncut_replics[j])\n",
    "\n",
    "\n",
    "                start = max(0, j - 3) #for shorter windows\n",
    "                # text = PROMPT.format(problem=question, ground_truth=ground_truth_solution, \\\n",
    "                                     # student_solution=incorrect_solution, \\\n",
    "                                     # conversation=\"\\n\".join(replics[start:j + 1]))\n",
    "                text = PROMPT.format(conversation=\"\\n\".join(replics[start:j]))\n",
    "                \n",
    "                new_data.append([index, text, label])\n",
    "                index += 1\n",
    "\n",
    "    length_in_teacher_replics.append(teacher_replics)\n"
   ]
  },
  {
   "cell_type": "code",
   "execution_count": 13,
   "id": "2ebb4d35-52f5-43bf-9550-efec38a332e1",
   "metadata": {},
   "outputs": [],
   "source": [
    "new_data = pd.DataFrame(new_data, columns=header)"
   ]
  },
  {
   "cell_type": "code",
   "execution_count": 14,
   "id": "82cf7f60-d18f-44ab-88ce-058c473d95c7",
   "metadata": {},
   "outputs": [],
   "source": [
    "new_data.to_csv('train_only_dialogue_window_1.csv', index=False)"
   ]
  },
  {
   "cell_type": "code",
   "execution_count": 15,
   "id": "b34fad26-2121-4c93-a84b-269040ad9cd1",
   "metadata": {},
   "outputs": [
    {
     "name": "stdout",
     "output_type": "stream",
     "text": [
      "number of replics on average:  12.519893899204243  +-  5.940189840231629\n",
      "number of teacher replics on average:  6.591511936339523  +-  2.97726108483548\n"
     ]
    }
   ],
   "source": [
    "import numpy as np\n",
    "print(\"number of replics on average: \", np.array(length_in_replics).mean(), \" +- \", np.array(length_in_replics).std())\n",
    "print(\"number of teacher replics on average: \", np.array(length_in_teacher_replics).mean(), \" +- \", np.array(length_in_teacher_replics).std())"
   ]
  },
  {
   "cell_type": "code",
   "execution_count": 16,
   "id": "f476b850-5c45-4862-b43b-018b8d9e3235",
   "metadata": {},
   "outputs": [
    {
     "data": {
      "text/plain": [
       "'Teacher: What is the distance between the first and second stores?|EOM|Student: The distance between the first and second stores is 6 miles.|EOM|Teacher: What is the distance between the 2nd and 3rd stores?|EOM|Student: The distance between the second and third stores is 2/3 x 6 = 4 miles longer than the distance between the first two stores, so it is 6 + 4 = 10 miles.|EOM|Teacher: What is the distance between his house and the first store?|EOM|Student: The distance between his house and the first store is 4 miles.|EOM|Teacher: What is the distance between the last (3rd) store and work?|EOM|Student: The distance between the last (3rd) store and work is also 4 miles.|EOM|Teacher: What is the total of these 4 distances?|EOM|Student: The total of these 4 distances is 4 + 6 + 10 + 4 = 24 miles.|EOM|Teacher: Perfect!'"
      ]
     },
     "execution_count": 16,
     "metadata": {},
     "output_type": "execute_result"
    }
   ],
   "source": [
    "data[\"cut_conversation\"][3]"
   ]
  },
  {
   "cell_type": "code",
   "execution_count": null,
   "id": "589f0610-ad90-4e4e-bbcc-28ee1e1addca",
   "metadata": {},
   "outputs": [],
   "source": []
  }
 ],
 "metadata": {
  "kernelspec": {
   "display_name": "Python 3 (ipykernel)",
   "language": "python",
   "name": "python3"
  },
  "language_info": {
   "codemirror_mode": {
    "name": "ipython",
    "version": 3
   },
   "file_extension": ".py",
   "mimetype": "text/x-python",
   "name": "python",
   "nbconvert_exporter": "python",
   "pygments_lexer": "ipython3",
   "version": "3.10.12"
  }
 },
 "nbformat": 4,
 "nbformat_minor": 5
}
